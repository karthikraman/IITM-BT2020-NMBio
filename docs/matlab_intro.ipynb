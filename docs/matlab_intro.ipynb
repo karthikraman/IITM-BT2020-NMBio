{
 "cells": [
  {
   "cell_type": "markdown",
   "metadata": {},
   "source": [
    "## About MATLAB\n",
    "\n",
    "* Very popular high-level programming language\n",
    "* Powerful numerical computing environment\n",
    "* Highly popular in engineering and science"
   ]
  },
  {
   "cell_type": "markdown",
   "metadata": {},
   "source": [
    "## Elementary Tutorial\n",
    "\n",
    "### General Commands"
   ]
  },
  {
   "cell_type": "code",
   "execution_count": 3,
   "metadata": {},
   "outputs": [
    {
     "name": "stdout",
     "output_type": "stream",
     "text": [
      "\n"
     ]
    }
   ],
   "source": [
    "clc %Clears the command window"
   ]
  },
  {
   "cell_type": "code",
   "execution_count": 4,
   "metadata": {},
   "outputs": [
    {
     "name": "stdout",
     "output_type": "stream",
     "text": [
      "\n"
     ]
    }
   ],
   "source": [
    "clear %removes all variables from the workspace"
   ]
  },
  {
   "cell_type": "code",
   "execution_count": 5,
   "metadata": {},
   "outputs": [
    {
     "name": "stdout",
     "output_type": "stream",
     "text": [
      "\n"
     ]
    }
   ],
   "source": [
    "clear all %removes all variables, globals, functions and MEX links"
   ]
  },
  {
   "cell_type": "code",
   "execution_count": 6,
   "metadata": {},
   "outputs": [
    {
     "name": "stdout",
     "output_type": "stream",
     "text": [
      "\n",
      ".                          ..                         .ipynb_checkpoints         MATLAB Introduction.ipynb  \n",
      "\n",
      "\n"
     ]
    }
   ],
   "source": [
    "ls"
   ]
  },
  {
   "cell_type": "code",
   "execution_count": 7,
   "metadata": {},
   "outputs": [
    {
     "name": "stdout",
     "output_type": "stream",
     "text": [
      "\n",
      "(jmatlab) \n"
     ]
    }
   ],
   "source": [
    "!explorer"
   ]
  },
  {
   "cell_type": "code",
   "execution_count": 8,
   "metadata": {},
   "outputs": [
    {
     "name": "stdout",
     "output_type": "stream",
     "text": [
      "\n",
      "ans =\n",
      "\n",
      "    'C:\\Users\\Karthik\\Dropbox (Personal)\\Programming\\Jupyter\\matlab'\n",
      "\n",
      "\n"
     ]
    }
   ],
   "source": [
    "pwd"
   ]
  },
  {
   "cell_type": "code",
   "execution_count": 9,
   "metadata": {},
   "outputs": [
    {
     "name": "stdout",
     "output_type": "stream",
     "text": [
      "  Name      Size            Bytes  Class    Attributes\n",
      "\n",
      "  ans       1x62              124  char               \n",
      "\n",
      "\n"
     ]
    }
   ],
   "source": [
    "whos"
   ]
  },
  {
   "cell_type": "code",
   "execution_count": 10,
   "metadata": {},
   "outputs": [
    {
     "name": "stdout",
     "output_type": "stream",
     "text": [
      "'ls' is not recognized as an internal or external command,\n",
      "operable program or batch file.\n",
      "\n",
      "(jmatlab) \n"
     ]
    }
   ],
   "source": [
    "!ls"
   ]
  },
  {
   "cell_type": "code",
   "execution_count": 11,
   "metadata": {},
   "outputs": [
    {
     "name": "stdout",
     "output_type": "stream",
     "text": [
      " Volume in drive C is Local Disk\n",
      " Volume Serial Number is D649-B68C\n",
      "\n",
      " Directory of C:\\Users\\Karthik\\Dropbox (Personal)\\Programming\\Jupyter\\matlab\n",
      "\n",
      "06-Jan-18  13:41    <DIR>          .\n",
      "06-Jan-18  13:41    <DIR>          ..\n",
      "06-Jan-18  13:36    <DIR>          .ipynb_checkpoints\n",
      "06-Jan-18  13:41             3,239 MATLAB Introduction.ipynb\n",
      "               1 File(s)          3,239 bytes\n",
      "               3 Dir(s)  95,040,851,968 bytes free\n",
      "\n",
      "(jmatlab) \n"
     ]
    }
   ],
   "source": [
    "!dir"
   ]
  },
  {
   "cell_type": "code",
   "execution_count": 13,
   "metadata": {},
   "outputs": [
    {
     "name": "stdout",
     "output_type": "stream",
     "text": [
      "intlinprog                     - Mixed integer linear programming.\n",
      "linprog                        - Linear programming.\n",
      "optimplotmilp                  - plot function for the intlinprog solver.\n",
      "savemilpsolutions              - save all the integer solution found by intlinprog.\n",
      "\n"
     ]
    }
   ],
   "source": [
    "lookfor linprog"
   ]
  },
  {
   "cell_type": "code",
   "execution_count": 14,
   "metadata": {},
   "outputs": [
    {
     "name": "stdout",
     "output_type": "stream",
     "text": [
      " LINPROG Linear programming.\n",
      "    X = LINPROG(f,A,b) attempts to solve the linear programming problem:\n",
      " \n",
      "             min f'*x    subject to:   A*x <= b\n",
      "              x\n",
      " \n",
      "    X = LINPROG(f,A,b,Aeq,beq) solves the problem above while additionally\n",
      "    satisfying the equality constraints Aeq*x = beq. (Set A=[] and B=[] if\n",
      "    no inequalities exist.)\n",
      " \n",
      "    X = LINPROG(f,A,b,Aeq,beq,LB,UB) defines a set of lower and upper\n",
      "    bounds on the design variables, X, so that the solution is in\n",
      "    the range LB <= X <= UB. Use empty matrices for LB and UB\n",
      "    if no bounds exist. Set LB(i) = -Inf if X(i) is unbounded below;\n",
      "    set UB(i) = Inf if X(i) is unbounded above.\n",
      " \n",
      "    X = LINPROG(f,A,b,Aeq,beq,LB,UB,X0) sets the starting point to X0. This\n",
      "    option is only available with the active-set algorithm. The default\n",
      "    interior point algorithm will ignore any non-empty starting point.\n",
      " \n",
      "    X = LINPROG(PROBLEM) finds the minimum for PROBLEM. PROBLEM is a\n",
      "    structure with the vector 'f' in PROBLEM.f, the linear inequality\n",
      "    constraints in PROBLEM.Aineq and PROBLEM.bineq, the linear equality\n",
      "    constraints in PROBLEM.Aeq and PROBLEM.beq, the lower bounds in\n",
      "    PROBLEM.lb, the upper bounds in  PROBLEM.ub, the start point\n",
      "    in PROBLEM.x0, the options structure in PROBLEM.options, and solver\n",
      "    name 'linprog' in PROBLEM.solver. Use this syntax to solve at the\n",
      "    command line a problem exported from OPTIMTOOL.\n",
      " \n",
      "    [X,FVAL] = LINPROG(f,A,b) returns the value of the objective function\n",
      "    at X: FVAL = f'*X.\n",
      " \n",
      "    [X,FVAL,EXITFLAG] = LINPROG(f,A,b) returns an EXITFLAG that describes\n",
      "    the exit condition. Possible values of EXITFLAG and the corresponding\n",
      "    exit conditions are\n",
      " \n",
      "      1  LINPROG converged to a solution X.\n",
      "      0  Maximum number of iterations reached.\n",
      "     -2  No feasible point found.\n",
      "     -3  Problem is unbounded.\n",
      "     -4  NaN value encountered during execution of algorithm.\n",
      "     -5  Both primal and dual problems are infeasible.\n",
      "     -7  Magnitude of search direction became too small; no further\n",
      "          progress can be made. The problem is ill-posed or badly\n",
      "          conditioned.\n",
      " \n",
      "    [X,FVAL,EXITFLAG,OUTPUT] = LINPROG(f,A,b) returns a structure OUTPUT\n",
      "    with the number of iterations taken in OUTPUT.iterations, maximum of\n",
      "    constraint violations in OUTPUT.constrviolation, the type of\n",
      "    algorithm used in OUTPUT.algorithm, the number of conjugate gradient\n",
      "    iterations in OUTPUT.cgiterations (= 0, included for backward\n",
      "    compatibility), and the exit message in OUTPUT.message.\n",
      " \n",
      "    [X,FVAL,EXITFLAG,OUTPUT,LAMBDA] = LINPROG(f,A,b) returns the set of\n",
      "    Lagrangian multipliers LAMBDA, at the solution: LAMBDA.ineqlin for the\n",
      "    linear inequalities A, LAMBDA.eqlin for the linear equalities Aeq,\n",
      "    LAMBDA.lower for LB, and LAMBDA.upper for UB.\n",
      " \n",
      "    NOTE: the interior-point (the default) algorithm of LINPROG uses a\n",
      "          primal-dual method. Both the primal problem and the dual problem\n",
      "          must be feasible for convergence. Infeasibility messages of\n",
      "          either the primal or dual, or both, are given as appropriate. The\n",
      "          primal problem in standard form is\n",
      "               min f'*x such that A*x = b, x >= 0.\n",
      "          The dual problem is\n",
      "               max b'*y such that A'*y + s = f, s >= 0.\n",
      " \n",
      "    See also QUADPROG.\n",
      "\n",
      "    Reference page in Doc Center\n",
      "       doc linprog\n",
      "\n",
      "\n",
      "\n"
     ]
    }
   ],
   "source": [
    "help linprog"
   ]
  },
  {
   "cell_type": "code",
   "execution_count": 15,
   "metadata": {},
   "outputs": [
    {
     "name": "stdout",
     "output_type": "stream",
     "text": [
      "\n"
     ]
    }
   ],
   "source": [
    "doc linprog"
   ]
  },
  {
   "cell_type": "code",
   "execution_count": 18,
   "metadata": {},
   "outputs": [
    {
     "name": "stdout",
     "output_type": "stream",
     "text": [
      "\n"
     ]
    },
    {
     "data": {
      "image/png": "[encoded data removed]",
      "text/plain": [
       "<IPython.core.display.Image object>"
      ]
     },
     "metadata": {},
     "output_type": "display_data"
    }
   ],
   "source": [
    "hist(rand(1000,1));\n",
    "title('Histogram')\n",
    "ylabel('Frequency')"
   ]
  },
  {
   "cell_type": "code",
   "execution_count": 23,
   "metadata": {},
   "outputs": [
    {
     "name": "stdout",
     "output_type": "stream",
     "text": [
      "\n",
      "A =\n",
      "\n",
      "     2     1\n",
      "     1     1\n",
      "     3     2\n",
      "\n",
      "\n"
     ]
    }
   ],
   "source": [
    "A=randi(3,[3 2])"
   ]
  },
  {
   "cell_type": "code",
   "execution_count": 26,
   "metadata": {},
   "outputs": [
    {
     "name": "stdout",
     "output_type": "stream",
     "text": [
      "\n",
      "ans =\n",
      "\n",
      "     3     2\n",
      "\n",
      "\n"
     ]
    }
   ],
   "source": [
    "size(A)"
   ]
  },
  {
   "cell_type": "code",
   "execution_count": 27,
   "metadata": {},
   "outputs": [
    {
     "name": "stdout",
     "output_type": "stream",
     "text": [
      "\n",
      "ans =\n",
      "\n",
      "     2     1     3\n",
      "     1     1     2\n",
      "\n",
      "\n"
     ]
    }
   ],
   "source": [
    "A'"
   ]
  },
  {
   "cell_type": "code",
   "execution_count": 28,
   "metadata": {},
   "outputs": [
    {
     "name": "stdout",
     "output_type": "stream",
     "text": [
      "\n",
      "ans =\n",
      "\n",
      "     2     3\n",
      "\n",
      "\n"
     ]
    }
   ],
   "source": [
    "size(A')"
   ]
  },
  {
   "cell_type": "code",
   "execution_count": 29,
   "metadata": {},
   "outputs": [
    {
     "name": "stdout",
     "output_type": "stream",
     "text": [
      "\n",
      "ans =\n",
      "\n",
      "     6\n",
      "\n",
      "\n"
     ]
    }
   ],
   "source": [
    "numel(A)"
   ]
  },
  {
   "cell_type": "code",
   "execution_count": 30,
   "metadata": {},
   "outputs": [
    {
     "name": "stdout",
     "output_type": "stream",
     "text": [
      "\n",
      "ans =\n",
      "\n",
      "     6\n",
      "\n",
      "\n"
     ]
    }
   ],
   "source": [
    "prod(size(A))"
   ]
  },
  {
   "cell_type": "code",
   "execution_count": 31,
   "metadata": {},
   "outputs": [
    {
     "name": "stdout",
     "output_type": "stream",
     "text": [
      "\n",
      "x =\n",
      "\n",
      "     1     8    15    22    29    36    43    50    57    64    71    78    85    92    99\n",
      "\n",
      "\n"
     ]
    }
   ],
   "source": [
    "x = 1:7:100"
   ]
  },
  {
   "cell_type": "code",
   "execution_count": 42,
   "metadata": {},
   "outputs": [
    {
     "name": "stdout",
     "output_type": "stream",
     "text": [
      "\n",
      "y =\n",
      "\n",
      "     0    10    20    30    40    50    60    70    80    90   100\n",
      "\n",
      "\n"
     ]
    }
   ],
   "source": [
    "y = linspace(0,100,11)"
   ]
  },
  {
   "cell_type": "code",
   "execution_count": 52,
   "metadata": {},
   "outputs": [
    {
     "name": "stdout",
     "output_type": "stream",
     "text": [
      "\n",
      "ans =\n",
      "\n",
      "    1.0000    1.3333    1.6667    2.0000    2.3333    2.6667    3.0000\n",
      "\n",
      "\n"
     ]
    }
   ],
   "source": [
    "log10(logspace(1,3,7))"
   ]
  },
  {
   "cell_type": "code",
   "execution_count": 53,
   "metadata": {},
   "outputs": [
    {
     "name": "stdout",
     "output_type": "stream",
     "text": [
      "\n",
      "ans =\n",
      "\n",
      "    1.0000    1.3333    1.6667    2.0000    2.3333    2.6667    3.0000\n",
      "\n",
      "\n"
     ]
    }
   ],
   "source": [
    "linspace(1,3,7)"
   ]
  },
  {
   "cell_type": "code",
   "execution_count": 54,
   "metadata": {},
   "outputs": [
    {
     "name": "stdout",
     "output_type": "stream",
     "text": [
      "\n",
      "ans =\n",
      "\n",
      "   1.0e+03 *\n",
      "\n",
      "    0.0100    0.0215    0.0464    0.1000    0.2154    0.4642    1.0000\n",
      "\n",
      "\n"
     ]
    }
   ],
   "source": [
    "10.^linspace(1,3,7)"
   ]
  },
  {
   "cell_type": "code",
   "execution_count": 55,
   "metadata": {},
   "outputs": [
    {
     "name": "stdout",
     "output_type": "stream",
     "text": [
      "\n",
      "ans =\n",
      "\n",
      "   1.0e+03 *\n",
      "\n",
      "    0.0100    0.0215    0.0464    0.1000    0.2154    0.4642    1.0000\n",
      "\n",
      "\n"
     ]
    }
   ],
   "source": [
    "logspace(1,3,7)"
   ]
  },
  {
   "cell_type": "code",
   "execution_count": 56,
   "metadata": {},
   "outputs": [
    {
     "name": "stdout",
     "output_type": "stream",
     "text": [
      "\n",
      "A =\n",
      "\n",
      "     1     2     3     4     5\n",
      "     6     7     8     9    10\n",
      "    11    12    13    14    15\n",
      "\n",
      "\n"
     ]
    }
   ],
   "source": [
    "A = [1:5; 6:10; 11:15]"
   ]
  },
  {
   "cell_type": "code",
   "execution_count": 57,
   "metadata": {},
   "outputs": [
    {
     "name": "stdout",
     "output_type": "stream",
     "text": [
      "\n",
      "ans =\n",
      "\n",
      "     1     2     3     4     5\n",
      "     6     7     8     9    10\n",
      "    11    12    13    14    15\n",
      "\n",
      "\n"
     ]
    }
   ],
   "source": [
    "A(1:3,:)"
   ]
  },
  {
   "cell_type": "code",
   "execution_count": 58,
   "metadata": {},
   "outputs": [
    {
     "name": "stdout",
     "output_type": "stream",
     "text": [
      "\n",
      "ans =\n",
      "\n",
      "     1     2     3\n",
      "     6     7     8\n",
      "    11    12    13\n",
      "\n",
      "\n"
     ]
    }
   ],
   "source": [
    "A(:,1:3)"
   ]
  },
  {
   "cell_type": "code",
   "execution_count": 59,
   "metadata": {},
   "outputs": [
    {
     "name": "stdout",
     "output_type": "stream",
     "text": [
      "\n",
      "ans =\n",
      "\n",
      "     1     2     3     4     5\n",
      "     6     7     8     9    10\n",
      "    11    12    13    14    15\n",
      "\n",
      "\n"
     ]
    }
   ],
   "source": [
    "A(:,:)"
   ]
  },
  {
   "cell_type": "code",
   "execution_count": 60,
   "metadata": {},
   "outputs": [
    {
     "name": "stdout",
     "output_type": "stream",
     "text": [
      "\n",
      "ans =\n",
      "\n",
      "     3\n",
      "\n",
      "\n"
     ]
    }
   ],
   "source": [
    "A(1,3)"
   ]
  },
  {
   "cell_type": "code",
   "execution_count": 61,
   "metadata": {},
   "outputs": [
    {
     "name": "stdout",
     "output_type": "stream",
     "text": [
      "\n",
      "ans =\n",
      "\n",
      "     7\n",
      "\n",
      "\n"
     ]
    }
   ],
   "source": [
    "A(5)"
   ]
  },
  {
   "cell_type": "code",
   "execution_count": 63,
   "metadata": {},
   "outputs": [
    {
     "name": "stdout",
     "output_type": "stream",
     "text": [
      "\n",
      "ans =\n",
      "\n",
      "     2     4\n",
      "    12    14\n",
      "\n",
      "\n"
     ]
    }
   ],
   "source": [
    "A([1 3],[2 4])"
   ]
  },
  {
   "cell_type": "code",
   "execution_count": 64,
   "metadata": {},
   "outputs": [
    {
     "name": "stdout",
     "output_type": "stream",
     "text": [
      "\n",
      "A =\n",
      "\n",
      "     0     0     0     0     0     0     0     0     0     0\n",
      "     0     0     0     0     0     0     0     0     0     0\n",
      "     0     0     0     0     0     0     0     0     0     0\n",
      "     0     0     0     0     0     0     0     0     0     0\n",
      "     0     0     0     0     0     0     0     0     0     0\n",
      "     0     0     0     0     0     0     0     0     0     0\n",
      "     0     0     0     0     0     0     0     0     0     0\n",
      "     0     0     0     0     0     0     0     0     0     0\n",
      "     0     0     0     0     0     0     0     0     0     0\n",
      "     0     0     0     0     0     0     0     0     0     0\n",
      "\n",
      "\n"
     ]
    }
   ],
   "source": [
    "A = zeros(10)"
   ]
  },
  {
   "cell_type": "code",
   "execution_count": 65,
   "metadata": {},
   "outputs": [
    {
     "name": "stdout",
     "output_type": "stream",
     "text": [
      "\n",
      "A =\n",
      "\n",
      "     1     1     1     1     1     1     1     1     1     1\n",
      "     1     1     1     1     1     1     1     1     1     1\n",
      "     1     1     1     1     1     1     1     1     1     1\n",
      "     1     1     1     1     1     1     1     1     1     1\n",
      "     1     1     1     1     1     1     1     1     1     1\n",
      "     1     1     1     1     1     1     1     1     1     1\n",
      "     1     1     1     1     1     1     1     1     1     1\n",
      "     1     1     1     1     1     1     1     1     1     1\n",
      "     1     1     1     1     1     1     1     1     1     1\n",
      "     1     1     1     1     1     1     1     1     1     1\n",
      "\n",
      "\n"
     ]
    }
   ],
   "source": [
    "A = ones(10)"
   ]
  },
  {
   "cell_type": "code",
   "execution_count": 66,
   "metadata": {},
   "outputs": [
    {
     "name": "stdout",
     "output_type": "stream",
     "text": [
      "\n",
      "A =\n",
      "\n",
      "     1     0     0     0     0     0     0     0     0     0\n",
      "     0     1     0     0     0     0     0     0     0     0\n",
      "     0     0     1     0     0     0     0     0     0     0\n",
      "     0     0     0     1     0     0     0     0     0     0\n",
      "     0     0     0     0     1     0     0     0     0     0\n",
      "     0     0     0     0     0     1     0     0     0     0\n",
      "     0     0     0     0     0     0     1     0     0     0\n",
      "     0     0     0     0     0     0     0     1     0     0\n",
      "     0     0     0     0     0     0     0     0     1     0\n",
      "     0     0     0     0     0     0     0     0     0     1\n",
      "\n",
      "\n"
     ]
    }
   ],
   "source": [
    "A = eye(10)"
   ]
  },
  {
   "cell_type": "code",
   "execution_count": 67,
   "metadata": {},
   "outputs": [
    {
     "name": "stdout",
     "output_type": "stream",
     "text": [
      "\n",
      "ans =\n",
      "\n",
      "     1\n",
      "    12\n",
      "    23\n",
      "    34\n",
      "    45\n",
      "    56\n",
      "    67\n",
      "    78\n",
      "    89\n",
      "   100\n",
      "\n",
      "\n"
     ]
    }
   ],
   "source": [
    "find(A)\n"
   ]
  },
  {
   "cell_type": "code",
   "execution_count": 68,
   "metadata": {},
   "outputs": [
    {
     "name": "stdout",
     "output_type": "stream",
     "text": [
      "\n",
      "i =\n",
      "\n",
      "     1\n",
      "     2\n",
      "     3\n",
      "     4\n",
      "     5\n",
      "     6\n",
      "     7\n",
      "     8\n",
      "     9\n",
      "    10\n",
      "\n",
      "\n",
      "j =\n",
      "\n",
      "     1\n",
      "     2\n",
      "     3\n",
      "     4\n",
      "     5\n",
      "     6\n",
      "     7\n",
      "     8\n",
      "     9\n",
      "    10\n",
      "\n",
      "\n"
     ]
    }
   ],
   "source": [
    "[i, j] = find(A)"
   ]
  },
  {
   "cell_type": "code",
   "execution_count": 69,
   "metadata": {},
   "outputs": [
    {
     "name": "stdout",
     "output_type": "stream",
     "text": [
      "\n",
      "A =\n",
      "\n",
      "    0.4759    0.2828    0.6101    0.4429    0.0782\n",
      "    0.3683    0.2052    0.2036    0.5480    0.4564\n",
      "    0.6556    0.4391    0.5199    0.5669    0.0478\n",
      "    0.9382    0.0273    0.0538    0.6804    0.7383\n",
      "    0.6204    0.8762    0.8622    0.3714    0.0380\n",
      "\n",
      "\n"
     ]
    }
   ],
   "source": [
    "A = rand(5)"
   ]
  },
  {
   "cell_type": "code",
   "execution_count": 70,
   "metadata": {},
   "outputs": [
    {
     "name": "stdout",
     "output_type": "stream",
     "text": [
      "\n",
      "A =\n",
      "\n",
      "     5     2     1     1     4\n",
      "     4     4     3     3     5\n",
      "     5     5     3     4     2\n",
      "     3     2     4     1     3\n",
      "     2     4     2     3     5\n",
      "\n",
      "\n"
     ]
    }
   ],
   "source": [
    "A = randi(5,[5 5])"
   ]
  },
  {
   "cell_type": "code",
   "execution_count": 71,
   "metadata": {},
   "outputs": [
    {
     "name": "stdout",
     "output_type": "stream",
     "text": [
      "\n",
      "A =\n",
      "\n",
      "     5     0     0     0     4\n",
      "     4     4     0     0     5\n",
      "     5     5     0     4     0\n",
      "     0     0     4     0     0\n",
      "     0     4     0     0     5\n",
      "\n",
      "\n"
     ]
    }
   ],
   "source": [
    "A(A<=3) = 0"
   ]
  },
  {
   "cell_type": "code",
   "execution_count": 72,
   "metadata": {},
   "outputs": [
    {
     "name": "stderr",
     "output_type": "stream",
     "text": [
      "\u001b[1;31m\n",
      "  File C:\\Program Files\\MATLAB\\R2017a\\toolbox\\matlab\\elmat\\gallery.m, line 108, in gallery\n",
      "Not enough input arguments.\n",
      "\n",
      "\u001b[0m"
     ]
    }
   ],
   "source": [
    "gallery"
   ]
  },
  {
   "cell_type": "code",
   "execution_count": 73,
   "metadata": {},
   "outputs": [
    {
     "name": "stdout",
     "output_type": "stream",
     "text": [
      "\n",
      "ans =\n",
      "\n",
      "          -9          11         -21          63        -252\n",
      "          70         -69         141        -421        1684\n",
      "        -575         575       -1149        3451      -13801\n",
      "        3891       -3891        7782      -23345       93365\n",
      "        1024       -1024        2048       -6144       24572\n",
      "\n",
      "\n"
     ]
    }
   ],
   "source": [
    "gallery(5)"
   ]
  },
  {
   "cell_type": "code",
   "execution_count": 74,
   "metadata": {},
   "outputs": [
    {
     "name": "stdout",
     "output_type": "stream",
     "text": [
      " GALLERY Higham test matrices.\n",
      "    [out1,out2,...] = GALLERY(matname, param1, param2, ...)\n",
      "    takes matname, a string that is the name of a matrix family, and\n",
      "    the family's input parameters. See the listing below for available\n",
      "    matrix families. Most of the functions take an input argument\n",
      "    that specifies the order of the matrix, and unless otherwise\n",
      "    stated, return a single output.\n",
      " \n",
      "    GALLERY(matname,param1, param2, ..., CLASSNAME) produces a matrix\n",
      "    of class CLASSNAME, which must be either 'single' or 'double' (unless\n",
      "    matname is 'integerdata', in which case 'int8', 'int16', 'int32',\n",
      "    'uint8', 'uint16', and 'uint32' are also allowed.)\n",
      "    If CLASSNAME is not specified then the class of the matrix is\n",
      "    determined from those arguments among param 1, param2, ..., that do\n",
      "    not specify dimensions or select an option:\n",
      "    if any of these arguments is of class single then the matrix is\n",
      "    single; otherwise the matrix is double.\n",
      " \n",
      "    For additional information, type \"help private/matname\", where matname\n",
      "    is the name of the matrix family.\n",
      " \n",
      "    binomial    Binomial matrix -- multiple of involutory matrix.\n",
      "    cauchy      Cauchy matrix.\n",
      "    chebspec    Chebyshev spectral differentiation matrix.\n",
      "    chebvand    Vandermonde-like matrix for the Chebyshev polynomials.\n",
      "    chow        Chow matrix -- a singular Toeplitz lower Hessenberg matrix.\n",
      "    circul      Circulant matrix.\n",
      "    clement     Clement matrix -- tridiagonal with zero diagonal entries.\n",
      "    compar      Comparison matrices.\n",
      "    condex      Counter-examples to matrix condition number estimators.\n",
      "    cycol       Matrix whose columns repeat cyclically.\n",
      "    dorr        Dorr matrix -- diagonally dominant, ill-conditioned, tridiagonal.\n",
      "                (One or three output arguments, sparse)\n",
      "    dramadah    Matrix of ones and zeroes whose inverse has large integer entries.\n",
      "    fiedler     Fiedler matrix -- symmetric.\n",
      "    forsythe    Forsythe matrix -- a perturbed Jordan block.\n",
      "    frank       Frank matrix -- ill-conditioned eigenvalues.\n",
      "    gcdmat      GCD matrix.\n",
      "    gearmat     Gear matrix.\n",
      "    grcar       Grcar matrix -- a Toeplitz matrix with sensitive eigenvalues.\n",
      "    hanowa      Matrix whose eigenvalues lie on a vertical line in the complex\n",
      "                plane.\n",
      "    house       Householder matrix. (Three output arguments)\n",
      "    integerdata Array of arbitrary data from uniform distribution on\n",
      "                specified range of integers\n",
      "    invhess     Inverse of an upper Hessenberg matrix.\n",
      "    invol       Involutory matrix.\n",
      "    ipjfact     Hankel matrix with factorial elements. (Two output arguments)\n",
      "    jordbloc    Jordan block matrix.\n",
      "    kahan       Kahan matrix -- upper trapezoidal.\n",
      "    kms         Kac-Murdock-Szego Toeplitz matrix.\n",
      "    krylov      Krylov matrix.\n",
      "    lauchli     Lauchli matrix -- rectangular.\n",
      "    lehmer      Lehmer matrix -- symmetric positive definite.\n",
      "    leslie      Leslie matrix.\n",
      "    lesp        Tridiagonal matrix with real, sensitive eigenvalues.\n",
      "    lotkin      Lotkin matrix.\n",
      "    minij       Symmetric positive definite matrix MIN(i,j).\n",
      "    moler       Moler matrix -- symmetric positive definite.\n",
      "    neumann     Singular matrix from the discrete Neumann problem (sparse).\n",
      "    normaldata  Array of arbitrary data from standard normal distribution\n",
      "    orthog      Orthogonal and nearly orthogonal matrices.\n",
      "    parter      Parter matrix -- a Toeplitz matrix with singular values near PI.\n",
      "    pei         Pei matrix.\n",
      "    poisson     Block tridiagonal matrix from Poisson's equation (sparse).\n",
      "    prolate     Prolate matrix -- symmetric, ill-conditioned Toeplitz matrix.\n",
      "    qmult       Pre-multiply matrix by random orthogonal matrix.\n",
      "    randcolu    Random matrix with normalized cols and specified singular values.\n",
      "    randcorr    Random correlation matrix with specified eigenvalues.\n",
      "    randhess    Random, orthogonal upper Hessenberg matrix.\n",
      "    randjorth   Random J-orthogonal (hyperbolic, pseudo-orthogonal) matrix.\n",
      "    rando       Random matrix with elements -1, 0 or 1.\n",
      "    randsvd     Random matrix with pre-assigned singular values and specified\n",
      "                bandwidth.\n",
      "    redheff     Matrix of 0s and 1s of Redheffer.\n",
      "    riemann     Matrix associated with the Riemann hypothesis.\n",
      "    ris         Ris matrix -- a symmetric Hankel matrix.\n",
      "    sampling    Nonsymmetric matrix with integer, ill conditioned eigenvalues.\n",
      "    smoke       Smoke matrix -- complex, with a \"smoke ring\" pseudospectrum.\n",
      "    toeppd      Symmetric positive definite Toeplitz matrix.\n",
      "    toeppen     Pentadiagonal Toeplitz matrix (sparse).\n",
      "    tridiag     Tridiagonal matrix (sparse).\n",
      "    triw        Upper triangular matrix discussed by Wilkinson and others.\n",
      "    uniformdata Array of arbitrary data from standard uniform distribution\n",
      "    wathen      Wathen matrix -- a finite element matrix (sparse, random entries).\n",
      "    wilk        Various specific matrices devised/discussed by Wilkinson.\n",
      "                (Two output arguments)\n",
      " \n",
      "    GALLERY(3) is a badly conditioned 3-by-3 matrix.\n",
      "    GALLERY(5) is an interesting eigenvalue problem.  Try to find\n",
      "    its EXACT eigenvalues and eigenvectors.\n",
      " \n",
      "    See also MAGIC, HILB, INVHILB, HADAMARD, PASCAL, ROSSER, VANDER, WILKINSON.\n",
      "\n",
      "    Reference page in Doc Center\n",
      "       doc gallery\n",
      "\n",
      "\n",
      "\n"
     ]
    }
   ],
   "source": [
    "help gallery"
   ]
  },
  {
   "cell_type": "code",
   "execution_count": 75,
   "metadata": {},
   "outputs": [
    {
     "name": "stdout",
     "output_type": "stream",
     "text": [
      "\n",
      "ans =\n",
      "\n",
      "    1.0000    0.5000    0.3333    0.2500    0.2000\n",
      "    0.5000    0.3333    0.2500    0.2000    0.1667\n",
      "    0.3333    0.2500    0.2000    0.1667    0.1429\n",
      "    0.2500    0.2000    0.1667    0.1429    0.1250\n",
      "    0.2000    0.1667    0.1429    0.1250    0.1111\n",
      "\n",
      "\n"
     ]
    }
   ],
   "source": [
    "hilb(5)"
   ]
  },
  {
   "cell_type": "code",
   "execution_count": 95,
   "metadata": {},
   "outputs": [
    {
     "name": "stdout",
     "output_type": "stream",
     "text": [
      "\n",
      "x =\n",
      "\n",
      "   1.0e+03 *\n",
      "\n",
      "    0.0050\n",
      "   -0.1200\n",
      "    0.6300\n",
      "   -1.1200\n",
      "    0.6300\n",
      "\n",
      "\n"
     ]
    }
   ],
   "source": [
    "x = hilb(5)\\ones(5,1)"
   ]
  },
  {
   "cell_type": "code",
   "execution_count": 97,
   "metadata": {},
   "outputs": [
    {
     "name": "stdout",
     "output_type": "stream",
     "text": [
      "\n",
      "ans =\n",
      "\n",
      "    1.0000\n",
      "    1.0000\n",
      "    1.0000\n",
      "    1.0000\n",
      "    1.0000\n",
      "\n",
      "\n"
     ]
    }
   ],
   "source": [
    "hilb(5)*x"
   ]
  },
  {
   "cell_type": "markdown",
   "metadata": {},
   "source": [
    "The `inline` function can create simple functions _inline_, like $f(x, y) = \\sin(x^2+y^2+xy)$"
   ]
  },
  {
   "cell_type": "code",
   "execution_count": 2,
   "metadata": {},
   "outputs": [
    {
     "name": "stdout",
     "output_type": "stream",
     "text": [
      "\n",
      "f =\n",
      "\n",
      "     Inline function:\n",
      "     f(x,y) = sin(x.^2+y.^2+x.*y)\n",
      "\n",
      "\n"
     ]
    }
   ],
   "source": [
    "f = inline('sin(x.^2+y.^2+x.*y)')"
   ]
  },
  {
   "cell_type": "code",
   "execution_count": 6,
   "metadata": {},
   "outputs": [
    {
     "name": "stdout",
     "output_type": "stream",
     "text": [
      "\n",
      "ans =\n",
      "\n",
      "   2.1438e-15\n",
      "\n",
      "\n"
     ]
    }
   ],
   "source": [
    "f(sqrt(pi),sqrt(pi))"
   ]
  },
  {
   "cell_type": "code",
   "execution_count": 5,
   "metadata": {},
   "outputs": [
    {
     "name": "stdout",
     "output_type": "stream",
     "text": [
      "\n"
     ]
    }
   ],
   "source": [
    "format"
   ]
  },
  {
   "cell_type": "code",
   "execution_count": 7,
   "metadata": {},
   "outputs": [
    {
     "name": "stdout",
     "output_type": "stream",
     "text": [
      "\n",
      "ans =\n",
      "\n",
      "   3.6739e-16\n",
      "\n",
      "\n"
     ]
    }
   ],
   "source": [
    "sin(3*pi)"
   ]
  },
  {
   "cell_type": "code",
   "execution_count": 1,
   "metadata": {},
   "outputs": [
    {
     "name": "stderr",
     "output_type": "stream",
     "text": [
      "\u001b[1;31mUndefined function or variable 'x'.\n",
      "\n",
      "\u001b[0m"
     ]
    }
   ],
   "source": [
    "x.*x"
   ]
  },
  {
   "cell_type": "code",
   "execution_count": 2,
   "metadata": {},
   "outputs": [
    {
     "name": "stdout",
     "output_type": "stream",
     "text": [
      "\n",
      "x =\n",
      "\n",
      "     1     2     3     4     5     6     7     8     9    10\n",
      "\n",
      "\n"
     ]
    }
   ],
   "source": [
    "x = 1:10"
   ]
  },
  {
   "cell_type": "code",
   "execution_count": 3,
   "metadata": {},
   "outputs": [
    {
     "name": "stderr",
     "output_type": "stream",
     "text": [
      "\u001b[1;31mInner matrix dimensions must agree.\n",
      "\n",
      "\u001b[0m"
     ]
    }
   ],
   "source": [
    "x*x"
   ]
  },
  {
   "cell_type": "code",
   "execution_count": 4,
   "metadata": {},
   "outputs": [
    {
     "name": "stdout",
     "output_type": "stream",
     "text": [
      "\n",
      "ans =\n",
      "\n",
      "     1     4     9    16    25    36    49    64    81   100\n",
      "\n",
      "\n"
     ]
    }
   ],
   "source": [
    "x.*x"
   ]
  },
  {
   "cell_type": "markdown",
   "metadata": {
    "collapsed": true
   },
   "source": [
    "## SPECIAL MATRICES\n",
    "There are number of built-in special matrices in MATLAB, for producing matrices that are all zero, all ones, the identity matrix etc."
   ]
  },
  {
   "cell_type": "code",
   "execution_count": 1,
   "metadata": {},
   "outputs": [
    {
     "name": "stdout",
     "output_type": "stream",
     "text": [
      "\n",
      "A =\n",
      "\n",
      "     0     0     0     0     0     0     0     0     0     0\n",
      "     0     0     0     0     0     0     0     0     0     0\n",
      "     0     0     0     0     0     0     0     0     0     0\n",
      "     0     0     0     0     0     0     0     0     0     0\n",
      "     0     0     0     0     0     0     0     0     0     0\n",
      "     0     0     0     0     0     0     0     0     0     0\n",
      "     0     0     0     0     0     0     0     0     0     0\n",
      "     0     0     0     0     0     0     0     0     0     0\n",
      "     0     0     0     0     0     0     0     0     0     0\n",
      "     0     0     0     0     0     0     0     0     0     0\n",
      "\n",
      "\n"
     ]
    }
   ],
   "source": [
    "A = zeros(10)"
   ]
  },
  {
   "cell_type": "code",
   "execution_count": 2,
   "metadata": {},
   "outputs": [
    {
     "name": "stdout",
     "output_type": "stream",
     "text": [
      "\n",
      "A =\n",
      "\n",
      "     1     1     1     1     1     1     1     1     1     1\n",
      "     1     1     1     1     1     1     1     1     1     1\n",
      "     1     1     1     1     1     1     1     1     1     1\n",
      "     1     1     1     1     1     1     1     1     1     1\n",
      "     1     1     1     1     1     1     1     1     1     1\n",
      "     1     1     1     1     1     1     1     1     1     1\n",
      "     1     1     1     1     1     1     1     1     1     1\n",
      "     1     1     1     1     1     1     1     1     1     1\n",
      "     1     1     1     1     1     1     1     1     1     1\n",
      "     1     1     1     1     1     1     1     1     1     1\n",
      "\n",
      "\n"
     ]
    }
   ],
   "source": [
    "A = ones(10)"
   ]
  },
  {
   "cell_type": "code",
   "execution_count": 3,
   "metadata": {},
   "outputs": [
    {
     "name": "stdout",
     "output_type": "stream",
     "text": [
      "\n",
      "B =\n",
      "\n",
      "     1     0     0     0     0     0     0     0     0\n",
      "     0     1     0     0     0     0     0     0     0\n",
      "     0     0     1     0     0     0     0     0     0\n",
      "     0     0     0     1     0     0     0     0     0\n",
      "     0     0     0     0     1     0     0     0     0\n",
      "     0     0     0     0     0     1     0     0     0\n",
      "     0     0     0     0     0     0     1     0     0\n",
      "     0     0     0     0     0     0     0     1     0\n",
      "\n",
      "\n"
     ]
    }
   ],
   "source": [
    "B = eye(8,9)"
   ]
  },
  {
   "cell_type": "code",
   "execution_count": 4,
   "metadata": {},
   "outputs": [
    {
     "name": "stdout",
     "output_type": "stream",
     "text": [
      "\n",
      "ans =\n",
      "\n",
      "     1\n",
      "     1\n",
      "     1\n",
      "     1\n",
      "     1\n",
      "     1\n",
      "     1\n",
      "     1\n",
      "\n",
      "\n"
     ]
    }
   ],
   "source": [
    "diag(B)"
   ]
  },
  {
   "cell_type": "code",
   "execution_count": 6,
   "metadata": {},
   "outputs": [
    {
     "name": "stdout",
     "output_type": "stream",
     "text": [
      "\n",
      "ans =\n",
      "\n",
      "     1     0     0     0     0     0     0     0\n",
      "     0     1     0     0     0     0     0     0\n",
      "     0     0     1     0     0     0     0     0\n",
      "     0     0     0     1     0     0     0     0\n",
      "     0     0     0     0     1     0     0     0\n",
      "     0     0     0     0     0     1     0     0\n",
      "     0     0     0     0     0     0     1     0\n",
      "     0     0     0     0     0     0     0     1\n",
      "\n",
      "\n"
     ]
    }
   ],
   "source": [
    "diag(diag(B))"
   ]
  },
  {
   "cell_type": "markdown",
   "metadata": {},
   "source": [
    "## INPUT/OUTPUT Related Stuff"
   ]
  },
  {
   "cell_type": "code",
   "execution_count": 7,
   "metadata": {},
   "outputs": [
    {
     "name": "stdout",
     "output_type": "stream",
     "text": [
      "\n",
      "x =\n",
      "\n",
      "     1\n",
      "\n",
      "\n"
     ]
    }
   ],
   "source": [
    "x = 1"
   ]
  },
  {
   "cell_type": "code",
   "execution_count": 8,
   "metadata": {},
   "outputs": [
    {
     "name": "stdout",
     "output_type": "stream",
     "text": [
      "\n"
     ]
    }
   ],
   "source": [
    "x = 1; % Suppresses output"
   ]
  },
  {
   "cell_type": "code",
   "execution_count": 9,
   "metadata": {},
   "outputs": [
    {
     "name": "stdout",
     "output_type": "stream",
     "text": [
      "     1\n",
      "\n",
      "\n"
     ]
    }
   ],
   "source": [
    "disp(x)"
   ]
  },
  {
   "cell_type": "code",
   "execution_count": 10,
   "metadata": {},
   "outputs": [
    {
     "name": "stdout",
     "output_type": "stream",
     "text": [
      "1\n"
     ]
    }
   ],
   "source": [
    "fprintf('%d', x)"
   ]
  },
  {
   "cell_type": "code",
   "execution_count": 11,
   "metadata": {},
   "outputs": [
    {
     "name": "stdout",
     "output_type": "stream",
     "text": [
      "\n",
      "a =\n",
      "\n",
      "    '1'\n",
      "\n",
      "\n"
     ]
    }
   ],
   "source": [
    "a = sprintf('%d', x);\n",
    "a"
   ]
  },
  {
   "cell_type": "code",
   "execution_count": 12,
   "metadata": {},
   "outputs": [
    {
     "name": "stdout",
     "output_type": "stream",
     "text": [
      "\n"
     ]
    }
   ],
   "source": [
    "load('test_matrix.txt')"
   ]
  },
  {
   "cell_type": "code",
   "execution_count": 13,
   "metadata": {},
   "outputs": [
    {
     "name": "stdout",
     "output_type": "stream",
     "text": [
      "  Name              Size            Bytes  Class     Attributes\n",
      "\n",
      "  A                10x10              800  double              \n",
      "  B                 8x9               576  double              \n",
      "  a                 1x1                 2  char                \n",
      "  ans               8x8               512  double              \n",
      "  test_matrix       3x4                96  double              \n",
      "  x                 1x1                 8  double              \n",
      "\n",
      "\n"
     ]
    }
   ],
   "source": [
    "whos"
   ]
  },
  {
   "cell_type": "code",
   "execution_count": 14,
   "metadata": {},
   "outputs": [
    {
     "name": "stdout",
     "output_type": "stream",
     "text": [
      "\n",
      "test_matrix =\n",
      "\n",
      "     1     2     3     4\n",
      "     5     6     7     8\n",
      "     9    10    11    12\n",
      "\n",
      "\n"
     ]
    }
   ],
   "source": [
    "test_matrix"
   ]
  },
  {
   "cell_type": "markdown",
   "metadata": {},
   "source": [
    "Note that `load` will not load a file that does not have equal number of entries in every row."
   ]
  },
  {
   "cell_type": "markdown",
   "metadata": {},
   "source": [
    "### Other Useful Functions\n",
    "* `importdata`: Useful for loading text files and other files you would usually load using 'File>Import...'\n",
    "* `xlsread`: MATLAB can read XLS files directly"
   ]
  },
  {
   "cell_type": "code",
   "execution_count": null,
   "metadata": {
    "collapsed": true
   },
   "outputs": [],
   "source": []
  }
 ],
 "metadata": {
  "kernelspec": {
   "display_name": "Matlab",
   "language": "matlab",
   "name": "matlab"
  },
  "language_info": {
   "codemirror_mode": "octave",
   "file_extension": ".m",
   "help_links": [
    {
     "text": "MetaKernel Magics",
     "url": "https://github.com/calysto/metakernel/blob/master/metakernel/magics/README.md"
    }
   ],
   "mimetype": "text/x-octave",
   "name": "matlab",
   "version": "0.15.0"
  }
 },
 "nbformat": 4,
 "nbformat_minor": 2
}
